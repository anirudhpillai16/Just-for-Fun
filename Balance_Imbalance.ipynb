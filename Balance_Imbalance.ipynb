{
 "cells": [
  {
   "cell_type": "code",
   "execution_count": 1,
   "metadata": {
    "collapsed": true
   },
   "outputs": [],
   "source": [
    "import numpy as np\n",
    "import pandas as pd\n",
    "df = pd.read_csv('balance-scale.data', \n",
    "                 names=['balance', 'var1', 'var2', 'var3', 'var4'])\n",
    " "
   ]
  },
  {
   "cell_type": "code",
   "execution_count": 2,
   "metadata": {
    "collapsed": false
   },
   "outputs": [
    {
     "data": {
      "text/html": [
       "<div>\n",
       "<table border=\"1\" class=\"dataframe\">\n",
       "  <thead>\n",
       "    <tr style=\"text-align: right;\">\n",
       "      <th></th>\n",
       "      <th>balance</th>\n",
       "      <th>var1</th>\n",
       "      <th>var2</th>\n",
       "      <th>var3</th>\n",
       "      <th>var4</th>\n",
       "    </tr>\n",
       "  </thead>\n",
       "  <tbody>\n",
       "    <tr>\n",
       "      <th>0</th>\n",
       "      <td>B</td>\n",
       "      <td>1</td>\n",
       "      <td>1</td>\n",
       "      <td>1</td>\n",
       "      <td>1</td>\n",
       "    </tr>\n",
       "    <tr>\n",
       "      <th>1</th>\n",
       "      <td>R</td>\n",
       "      <td>1</td>\n",
       "      <td>1</td>\n",
       "      <td>1</td>\n",
       "      <td>2</td>\n",
       "    </tr>\n",
       "    <tr>\n",
       "      <th>2</th>\n",
       "      <td>R</td>\n",
       "      <td>1</td>\n",
       "      <td>1</td>\n",
       "      <td>1</td>\n",
       "      <td>3</td>\n",
       "    </tr>\n",
       "    <tr>\n",
       "      <th>3</th>\n",
       "      <td>R</td>\n",
       "      <td>1</td>\n",
       "      <td>1</td>\n",
       "      <td>1</td>\n",
       "      <td>4</td>\n",
       "    </tr>\n",
       "    <tr>\n",
       "      <th>4</th>\n",
       "      <td>R</td>\n",
       "      <td>1</td>\n",
       "      <td>1</td>\n",
       "      <td>1</td>\n",
       "      <td>5</td>\n",
       "    </tr>\n",
       "  </tbody>\n",
       "</table>\n",
       "</div>"
      ],
      "text/plain": [
       "  balance  var1  var2  var3  var4\n",
       "0       B     1     1     1     1\n",
       "1       R     1     1     1     2\n",
       "2       R     1     1     1     3\n",
       "3       R     1     1     1     4\n",
       "4       R     1     1     1     5"
      ]
     },
     "execution_count": 2,
     "metadata": {},
     "output_type": "execute_result"
    }
   ],
   "source": [
    "df.head()"
   ]
  },
  {
   "cell_type": "code",
   "execution_count": 3,
   "metadata": {
    "collapsed": false
   },
   "outputs": [
    {
     "data": {
      "text/plain": [
       "L    288\n",
       "R    288\n",
       "B     49\n",
       "Name: balance, dtype: int64"
      ]
     },
     "execution_count": 3,
     "metadata": {},
     "output_type": "execute_result"
    }
   ],
   "source": [
    "df.balance.value_counts()"
   ]
  },
  {
   "cell_type": "code",
   "execution_count": 7,
   "metadata": {
    "collapsed": false
   },
   "outputs": [
    {
     "data": {
      "text/plain": [
       "0    576\n",
       "1     49\n",
       "Name: balance, dtype: int64"
      ]
     },
     "execution_count": 7,
     "metadata": {},
     "output_type": "execute_result"
    }
   ],
   "source": [
    "df['balance'] = [1 if b=='B' else 0 for b in df.balance]\n",
    "df.balance.value_counts()"
   ]
  },
  {
   "cell_type": "code",
   "execution_count": 13,
   "metadata": {
    "collapsed": true
   },
   "outputs": [],
   "source": [
    "from sklearn.linear_model import LogisticRegression\n",
    "from sklearn.metrics import accuracy_score"
   ]
  },
  {
   "cell_type": "code",
   "execution_count": 10,
   "metadata": {
    "collapsed": false
   },
   "outputs": [],
   "source": [
    "y = df.balance\n",
    "X = df.drop('balance', axis =1)"
   ]
  },
  {
   "cell_type": "code",
   "execution_count": 14,
   "metadata": {
    "collapsed": false
   },
   "outputs": [
    {
     "name": "stdout",
     "output_type": "stream",
     "text": [
      "0.9216\n"
     ]
    }
   ],
   "source": [
    "#Train Model\n",
    "clf_0 = LogisticRegression().fit(X,y)\n",
    "\n",
    "pred_y_0 = clf_0.predict(X)\n",
    "\n",
    "print (accuracy_score(pred_y_0, y))"
   ]
  },
  {
   "cell_type": "code",
   "execution_count": 16,
   "metadata": {
    "collapsed": false
   },
   "outputs": [
    {
     "name": "stdout",
     "output_type": "stream",
     "text": [
      "[0]\n"
     ]
    }
   ],
   "source": [
    "print (np.unique(pred_y_0))"
   ]
  },
  {
   "cell_type": "markdown",
   "metadata": {},
   "source": [
    "**Our Classifier is not predicting 1**\n",
    "\n",
    "**Let's do Undersampling**"
   ]
  },
  {
   "cell_type": "code",
   "execution_count": 17,
   "metadata": {
    "collapsed": true
   },
   "outputs": [],
   "source": [
    "from sklearn.utils import resample"
   ]
  },
  {
   "cell_type": "code",
   "execution_count": 20,
   "metadata": {
    "collapsed": false
   },
   "outputs": [
    {
     "data": {
      "text/plain": [
       "1    576\n",
       "0    576\n",
       "Name: balance, dtype: int64"
      ]
     },
     "execution_count": 20,
     "metadata": {},
     "output_type": "execute_result"
    }
   ],
   "source": [
    "#Seperate majoirty and minority classes\n",
    "\n",
    "df_majority = df[df.balance == 0]\n",
    "df_minority = df[df.balance == 1]\n",
    "\n",
    "#Upsample minority class\n",
    "\n",
    "df_minority_upsampled = resample(df_minority,\n",
    "                                replace = True,\n",
    "                                n_samples = 576, random_state = 123)\n",
    "#Combining majority and upsampled_data\n",
    "\n",
    "df_upsampled = pd.concat([df_majority, df_minority_upsampled])\n",
    "\n",
    "#Check the count\n",
    "df_upsampled.balance.value_counts()"
   ]
  },
  {
   "cell_type": "code",
   "execution_count": 22,
   "metadata": {
    "collapsed": false
   },
   "outputs": [
    {
     "name": "stdout",
     "output_type": "stream",
     "text": [
      "0.513888888889\n"
     ]
    }
   ],
   "source": [
    "#Let's build another model\n",
    "y = df_upsampled[\"balance\"]\n",
    "x = df_upsampled.drop('balance', axis = 1)\n",
    "\n",
    "clf_1 = LogisticRegression().fit(x,y)\n",
    "\n",
    "pred_y_1 = clf_1.predict(x)\n",
    "\n",
    "print(accuracy_score(y,pred_y_1))"
   ]
  },
  {
   "cell_type": "markdown",
   "metadata": {},
   "source": [
    "**Downsampling**"
   ]
  },
  {
   "cell_type": "code",
   "execution_count": 24,
   "metadata": {
    "collapsed": false
   },
   "outputs": [
    {
     "data": {
      "text/plain": [
       "1    49\n",
       "0    49\n",
       "Name: balance, dtype: int64"
      ]
     },
     "execution_count": 24,
     "metadata": {},
     "output_type": "execute_result"
    }
   ],
   "source": [
    "df_majority = df[df.balance == 0]\n",
    "df_minority = df[df.balance == 1]\n",
    "\n",
    "#Downsample Majority Class\n",
    "\n",
    "df_majority_downsampled = resample(df_majority, replace = False, n_samples = 49, random_state = 123)\n",
    "\n",
    "#Concat dataset\n",
    "\n",
    "df_downsampled = pd.concat([df_majority_downsampled, df_minority])\n",
    "\n",
    "df_downsampled.balance.value_counts()"
   ]
  },
  {
   "cell_type": "code",
   "execution_count": 30,
   "metadata": {
    "collapsed": false
   },
   "outputs": [
    {
     "name": "stdout",
     "output_type": "stream",
     "text": [
      "[0 1]\n",
      "0.581632653061\n"
     ]
    }
   ],
   "source": [
    "x = df_downsampled.drop('balance', axis = 1)\n",
    "y = df_downsampled[\"balance\"]\n",
    "\n",
    "# Train model\n",
    "\n",
    "clf_2 = LogisticRegression().fit(x,y)\n",
    "\n",
    "pred_2 = clf_2.predict(x)\n",
    "\n",
    "print( np.unique( pred_2 ) )\n",
    "\n",
    "print(accuracy_score(y, pred_2))"
   ]
  },
  {
   "cell_type": "code",
   "execution_count": 31,
   "metadata": {
    "collapsed": false
   },
   "outputs": [
    {
     "data": {
      "text/plain": [
       "[0.45419197226479691,\n",
       " 0.48205962213283965,\n",
       " 0.46862327066392495,\n",
       " 0.4786837883268909,\n",
       " 0.58143856820159612,\n",
       " 0.5583764990310689,\n",
       " 0.42669871325264447,\n",
       " 0.58097288479899123,\n",
       " 0.48309804296998415,\n",
       " 0.56235240454957103,\n",
       " 0.46930663687445212,\n",
       " 0.44476205428675314,\n",
       " 0.57712901148359219,\n",
       " 0.58155988279565041,\n",
       " 0.55405268351629622,\n",
       " 0.53911366155306062,\n",
       " 0.4458303368422461,\n",
       " 0.45918704415678591,\n",
       " 0.5577817087202307,\n",
       " 0.44539874632238285,\n",
       " 0.42665806467540329,\n",
       " 0.44646732846302473,\n",
       " 0.53527568074276366,\n",
       " 0.52007720575126049,\n",
       " 0.54959727622020293,\n",
       " 0.4497297538383348,\n",
       " 0.52119805966267663,\n",
       " 0.44531665479453131,\n",
       " 0.44103505080436944,\n",
       " 0.47708585493846289,\n",
       " 0.57170836584701867,\n",
       " 0.47932711938768546,\n",
       " 0.46918248269515189,\n",
       " 0.43098919210118869,\n",
       " 0.56298674733767673,\n",
       " 0.47418999697551056,\n",
       " 0.49205837538425878,\n",
       " 0.48828357946262607,\n",
       " 0.57225811394655135,\n",
       " 0.49712294718990319,\n",
       " 0.53859695920545214,\n",
       " 0.48201813383473585,\n",
       " 0.52569195103186839,\n",
       " 0.51003932526293161,\n",
       " 0.45921915922317635,\n",
       " 0.43663957015653654,\n",
       " 0.44599455998813758,\n",
       " 0.42678001337730914,\n",
       " 0.57272635959309071,\n",
       " 0.44654946134304119,\n",
       " 0.48382479803733019,\n",
       " 0.45092370280452809,\n",
       " 0.52128099354848267,\n",
       " 0.4553055427207835,\n",
       " 0.55849942235789474,\n",
       " 0.49270269303393965,\n",
       " 0.45969431413722828,\n",
       " 0.59507198724839994,\n",
       " 0.46408934581716849,\n",
       " 0.47435572465457115,\n",
       " 0.44154772548865429,\n",
       " 0.54470066701367559,\n",
       " 0.47876672171509688,\n",
       " 0.4458713915214666,\n",
       " 0.51622295345144165,\n",
       " 0.48318103230336495,\n",
       " 0.55349779356745721,\n",
       " 0.48759796931723587,\n",
       " 0.5901806559537246,\n",
       " 0.4920168440151359,\n",
       " 0.50232194403895469,\n",
       " 0.43655782224485118,\n",
       " 0.50674229261083659,\n",
       " 0.47371299538082362,\n",
       " 0.51116158731514549,\n",
       " 0.54848531075456552,\n",
       " 0.51557913793737331,\n",
       " 0.58527141830794138,\n",
       " 0.51999425535271637,\n",
       " 0.53027364253904175,\n",
       " 0.4643051547015104,\n",
       " 0.43158073005203956,\n",
       " 0.53467570555313226,\n",
       " 0.46866464919180995,\n",
       " 0.53907237359695781,\n",
       " 0.50609793155389315,\n",
       " 0.5434629705430577,\n",
       " 0.58034518880311148,\n",
       " 0.54784682402527396,\n",
       " 0.55803670473778844,\n",
       " 0.42661741708892292,\n",
       " 0.56239329999970467,\n",
       " 0.46362270890752749,\n",
       " 0.56674029285721206,\n",
       " 0.50103302445994935,\n",
       " 0.57107703772899365,\n",
       " 0.53843177753383409,\n",
       " 0.57540289527026534]"
      ]
     },
     "execution_count": 31,
     "metadata": {},
     "output_type": "execute_result"
    }
   ],
   "source": [
    "from sklearn.metrics import roc_auc_score\n",
    "\n",
    "prob_y_2 = clf_2.predict_proba(x)\n",
    "\n",
    "#Keep only positive class\n",
    "\n",
    "prob_y_2 = [p[1] for p in prob_y_2]\n",
    "\n",
    "prob_y_2"
   ]
  },
  {
   "cell_type": "code",
   "execution_count": 32,
   "metadata": {
    "collapsed": false
   },
   "outputs": [
    {
     "name": "stdout",
     "output_type": "stream",
     "text": [
      "0.568096626406\n"
     ]
    }
   ],
   "source": [
    "print (roc_auc_score(y,prob_y_2))"
   ]
  },
  {
   "cell_type": "code",
   "execution_count": 36,
   "metadata": {
    "collapsed": false
   },
   "outputs": [
    {
     "name": "stdout",
     "output_type": "stream",
     "text": [
      "0.522698875469\n"
     ]
    }
   ],
   "source": [
    "#AUC ROC of Imbalanced Dataset\n",
    "\n",
    "prob_y_0 = clf_0.predict_proba(x)\n",
    "\n",
    "prob_y_0 = [p[0] for p in prob_y_0]\n",
    "\n",
    "print (roc_auc_score(y,prob_y_0))"
   ]
  },
  {
   "cell_type": "markdown",
   "metadata": {},
   "source": [
    "**Penalize Algorithms**"
   ]
  },
  {
   "cell_type": "code",
   "execution_count": 42,
   "metadata": {
    "collapsed": false
   },
   "outputs": [
    {
     "name": "stdout",
     "output_type": "stream",
     "text": [
      "0.688\n",
      "0.5305236678\n"
     ]
    }
   ],
   "source": [
    "from sklearn.svm import SVC\n",
    "x = df.drop('balance', axis =1)\n",
    "y = df.balance\n",
    "\n",
    "#Train Model\n",
    "\n",
    "clf_3 = SVC(kernel ='linear', class_weight = 'balanced', probability = True)\n",
    "clf_3.fit(x,y)\n",
    "\n",
    "pred_y_3 = clf_3.predict(x)\n",
    "\n",
    "print (accuracy_score(y,pred_y_3))\n",
    "\n",
    "pred_y_3 = clf_3.predict_proba(x)\n",
    "\n",
    "pred_y_3 = [p[0] for p in pred_y_3]\n",
    "\n",
    "print(roc_auc_score(y,pred_y_3))"
   ]
  },
  {
   "cell_type": "markdown",
   "metadata": {},
   "source": [
    "**Tree Based Algorithm**"
   ]
  },
  {
   "cell_type": "code",
   "execution_count": 43,
   "metadata": {
    "collapsed": true
   },
   "outputs": [],
   "source": [
    "from sklearn.ensemble import RandomForestClassifier"
   ]
  },
  {
   "cell_type": "code",
   "execution_count": 45,
   "metadata": {
    "collapsed": false
   },
   "outputs": [
    {
     "name": "stdout",
     "output_type": "stream",
     "text": [
      "[0 1]\n",
      "0.9808\n"
     ]
    }
   ],
   "source": [
    "y = df.balance\n",
    "x = df.drop('balance', axis = 1)\n",
    "\n",
    "#Train Model\n",
    "\n",
    "clf_4 = RandomForestClassifier()\n",
    "clf_4.fit(x,y)\n",
    "\n",
    "pred_4 = clf_4.predict(x)\n",
    "\n",
    "print( np.unique( pred_4 ) )\n",
    "\n",
    "print (accuracy_score(y,pred_4))\n"
   ]
  },
  {
   "cell_type": "code",
   "execution_count": 47,
   "metadata": {
    "collapsed": false
   },
   "outputs": [
    {
     "name": "stdout",
     "output_type": "stream",
     "text": [
      "0.999840561224\n"
     ]
    }
   ],
   "source": [
    "prob_y_4 = clf_4.predict_proba(x)\n",
    "prob_y_4 = [p[1] for p in prob_y_4]\n",
    "print (roc_auc_score(y,prob_y_4))\n"
   ]
  },
  {
   "cell_type": "code",
   "execution_count": null,
   "metadata": {
    "collapsed": true
   },
   "outputs": [],
   "source": []
  }
 ],
 "metadata": {
  "anaconda-cloud": {},
  "kernelspec": {
   "display_name": "Python [default]",
   "language": "python",
   "name": "python3"
  },
  "language_info": {
   "codemirror_mode": {
    "name": "ipython",
    "version": 3
   },
   "file_extension": ".py",
   "mimetype": "text/x-python",
   "name": "python",
   "nbconvert_exporter": "python",
   "pygments_lexer": "ipython3",
   "version": "3.5.2"
  }
 },
 "nbformat": 4,
 "nbformat_minor": 1
}
